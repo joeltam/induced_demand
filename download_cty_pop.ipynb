{
 "cells": [
  {
   "cell_type": "code",
   "execution_count": 1,
   "metadata": {},
   "outputs": [],
   "source": [
    "from CaltransTab import *\n",
    "import requests\n",
    "import os"
   ]
  },
  {
   "cell_type": "code",
   "execution_count": 2,
   "metadata": {},
   "outputs": [],
   "source": [
    "county['ID'] = county['County'].str.replace(' ', '').str[:4]\n",
    "county.head()\n",
    "\n",
    "numbers = np.arange(0,10)\n",
    "new_array = []\n",
    "\n",
    "for id in county['ID']:\n",
    "    for number in numbers:\n",
    "        new_string = f\"CA{id}{number}POP\"\n",
    "        new_array.append(new_string)"
   ]
  },
  {
   "cell_type": "code",
   "execution_count": null,
   "metadata": {},
   "outputs": [],
   "source": [
    "for ID in new_array:\n",
    "    params = {\n",
    "        'bgcolor': '#e1e9f0',\n",
    "        'chart_type': 'line',\n",
    "        'drp': '0',\n",
    "        'fo': 'open sans',\n",
    "        'graph_bgcolor': '#ffffff',\n",
    "        'height': '450',\n",
    "        'mode': 'fred',\n",
    "        'recession_bars': 'on',\n",
    "        'txtcolor': '#444444',\n",
    "        'ts': '12',\n",
    "        'tts': '12',\n",
    "        'width': '958',\n",
    "        'nt': '0',\n",
    "        'thu': '0',\n",
    "        'trc': '0',\n",
    "        'show_legend': 'yes',\n",
    "        'show_axis_titles': 'yes',\n",
    "        'show_tooltip': 'yes',\n",
    "        'id': ID,\n",
    "        'scale': 'left',\n",
    "        'cosd': '1970-01-01',\n",
    "        'coed': '2023-01-01',\n",
    "        'line_color': '#4572a7',\n",
    "        'link_values': 'false',\n",
    "        'line_style': 'solid',\n",
    "        'mark_type': 'none',\n",
    "        'mw': '3',\n",
    "        'lw': '2',\n",
    "        'ost': '-99999',\n",
    "        'oet': '99999',\n",
    "        'mma': '0',\n",
    "        'fml': 'a',\n",
    "        'fq': 'Annual',\n",
    "        'fam': 'avg',\n",
    "        'fgst': 'lin',\n",
    "        'fgsnd': '2020-02-01',\n",
    "        'line_index': '1',\n",
    "        'transformation': 'lin',\n",
    "        'vintage_date': '2024-04-19',\n",
    "        'revision_date': '2024-04-19',\n",
    "        'nd': '1970-01-01',\n",
    "    }\n",
    "\n",
    "    response = requests.get('https://fred.stlouisfed.org/graph/fredgraph.xls', params=params)\n",
    "\n",
    "    if len(response.content) < 20 * 1024:\n",
    "        # Define the filename\n",
    "        filename = f'cty_pop/{ID}.xls'\n",
    "\n",
    "        with open(filename, 'wb') as file:\n",
    "            file.write(response.content)\n",
    "    \n",
    "    print(f'{filename} ok')\n"
   ]
  },
  {
   "cell_type": "code",
   "execution_count": 22,
   "metadata": {},
   "outputs": [],
   "source": [
    "# plt.plot(pd.read_excel('cty_pop/CABUTT5POP.xls').iloc[41:]['FRED Graph Observations'], \n",
    "#          pd.read_excel('cty_pop/CABUTT5POP.xls').iloc[41:]['Unnamed: 1'])"
   ]
  },
  {
   "cell_type": "code",
   "execution_count": 28,
   "metadata": {},
   "outputs": [],
   "source": [
    "file_names = []\n",
    "for i in new_array:\n",
    "    file_name = f'cty_pop/{i}.xls'\n",
    "    if os.path.isfile(file_name):\n",
    "        #print(i)\n",
    "        file_names.append(i)\n",
    "\n",
    "file_names = sorted(list(set(file_names)))\n",
    "county['FileName'] = file_names"
   ]
  },
  {
   "cell_type": "code",
   "execution_count": 29,
   "metadata": {},
   "outputs": [],
   "source": [
    "percent_change = []\n",
    "for i in county['FileName']:\n",
    "    df = pd.read_excel(f'cty_pop/{i}.xls').iloc[41:]['Unnamed: 1'].reset_index(drop=True).to_frame().astype(float).rename(columns={'Unnamed: 1': 'Population'})\n",
    "    df['% Change'] = df/(df.values[0]) - 1\n",
    "    percent_change.append(df['% Change'].iloc[-1])\n",
    "\n",
    "county['2001 to 2023'] = percent_change"
   ]
  }
 ],
 "metadata": {
  "kernelspec": {
   "display_name": ".venv",
   "language": "python",
   "name": "python3"
  },
  "language_info": {
   "codemirror_mode": {
    "name": "ipython",
    "version": 3
   },
   "file_extension": ".py",
   "mimetype": "text/x-python",
   "name": "python",
   "nbconvert_exporter": "python",
   "pygments_lexer": "ipython3",
   "version": "3.8.18"
  }
 },
 "nbformat": 4,
 "nbformat_minor": 2
}
