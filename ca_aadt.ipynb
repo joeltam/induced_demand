{
 "cells": [
  {
   "cell_type": "code",
   "execution_count": 1,
   "metadata": {},
   "outputs": [],
   "source": [
    "import requests\n",
    "\n",
    "cookies = {\n",
    "    'nmstat': '427c4c1c-3146-c5f9-1ad3-3d495785a86b',\n",
    "    '_ga': 'GA1.1.1813768829.1706303996',\n",
    "    '__utmz': '267661199.1706304002.1.1.utmcsr=(direct)|utmccn=(direct)|utmcmd=(none)',\n",
    "    '_ga_WLDEF7NZZ2': 'GS1.1.1706336436.2.0.1706336436.0.0.0',\n",
    "    '_ga_69TD0KNT0F': 'GS1.1.1706336436.2.0.1706336436.0.0.0',\n",
    "    '_ga_PXR8P55JR4': 'GS1.1.1706336436.2.0.1706336436.0.0.0',\n",
    "    'PHPSESSID': '5661fafdd988a363c8fd11e3f65a9f73',\n",
    "    '__utmc': '267661199',\n",
    "    '__utma': '267661199.1813768829.1706303996.1706502894.1706508876.5',\n",
    "    '__utmt': '1',\n",
    "    '__utmb': '267661199.37.10.1706508876',\n",
    "}\n",
    "\n",
    "headers = {\n",
    "    'Accept': 'text/html,application/xhtml+xml,application/xml;q=0.9,image/avif,image/webp,image/apng,*/*;q=0.8,application/signed-exchange;v=b3;q=0.7',\n",
    "    'Accept-Language': 'en-US,en;q=0.9',\n",
    "    'Cache-Control': 'max-age=0',\n",
    "    'Connection': 'keep-alive',\n",
    "    # 'Cookie': 'nmstat=427c4c1c-3146-c5f9-1ad3-3d495785a86b; _ga=GA1.1.1813768829.1706303996; __utmz=267661199.1706304002.1.1.utmcsr=(direct)|utmccn=(direct)|utmcmd=(none); _ga_WLDEF7NZZ2=GS1.1.1706336436.2.0.1706336436.0.0.0; _ga_69TD0KNT0F=GS1.1.1706336436.2.0.1706336436.0.0.0; _ga_PXR8P55JR4=GS1.1.1706336436.2.0.1706336436.0.0.0; PHPSESSID=5661fafdd988a363c8fd11e3f65a9f73; __utmc=267661199; __utma=267661199.1813768829.1706303996.1706502894.1706508876.5; __utmt=1; __utmb=267661199.37.10.1706508876',\n",
    "    'Referer': 'https://pems.dot.ca.gov/?report_form=1&dnode=State&content=tmg_phv&export=&view=a&fy=2022&ty=2023&st_cd=on&st_ch=on&st_ff=on&st_hv=on&st_ml=on&st_fr=on&st_or=on&html.x=41&html.y=10',\n",
    "    'Sec-Fetch-Dest': 'document',\n",
    "    'Sec-Fetch-Mode': 'navigate',\n",
    "    'Sec-Fetch-Site': 'same-origin',\n",
    "    'Sec-Fetch-User': '?1',\n",
    "    'Upgrade-Insecure-Requests': '1',\n",
    "    'User-Agent': 'Mozilla/5.0 (Macintosh; Intel Mac OS X 10_15_7) AppleWebKit/537.36 (KHTML, like Gecko) Chrome/120.0.0.0 Safari/537.36',\n",
    "    'sec-ch-ua': '\"Not_A Brand\";v=\"8\", \"Chromium\";v=\"120\", \"Google Chrome\";v=\"120\"',\n",
    "    'sec-ch-ua-mobile': '?0',\n",
    "    'sec-ch-ua-platform': '\"macOS\"',\n",
    "}\n",
    "\n",
    "params = {\n",
    "    'report_form': '1',\n",
    "    'dnode': 'State',\n",
    "    'content': 'tmg_phv',\n",
    "    'export': 'xls',\n",
    "    'view': 'a',\n",
    "    'fy': '1993',\n",
    "    'ty': '2023',\n",
    "    'st_cd': 'on',\n",
    "    'st_ch': 'on',\n",
    "    'st_ff': 'on',\n",
    "    'st_hv': 'on',\n",
    "    'st_ml': 'on',\n",
    "    'st_fr': 'on',\n",
    "    'st_or': 'on',\n",
    "    'html.x': '14',\n",
    "    'html.y': '4',\n",
    "}\n",
    "\n",
    "response = requests.get('https://pems.dot.ca.gov/', params=params, cookies=cookies, headers=headers)"
   ]
  },
  {
   "cell_type": "code",
   "execution_count": 2,
   "metadata": {},
   "outputs": [],
   "source": [
    "with open('ca_aadt.xlsx', 'wb') as file:\n",
    "    file.write(response.content)"
   ]
  },
  {
   "cell_type": "code",
   "execution_count": null,
   "metadata": {},
   "outputs": [],
   "source": []
  }
 ],
 "metadata": {
  "kernelspec": {
   "display_name": "base",
   "language": "python",
   "name": "python3"
  },
  "language_info": {
   "codemirror_mode": {
    "name": "ipython",
    "version": 3
   },
   "file_extension": ".py",
   "mimetype": "text/x-python",
   "name": "python",
   "nbconvert_exporter": "python",
   "pygments_lexer": "ipython3",
   "version": "3.8.18"
  }
 },
 "nbformat": 4,
 "nbformat_minor": 2
}
