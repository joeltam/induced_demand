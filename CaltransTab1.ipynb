{
 "cells": [
  {
   "cell_type": "markdown",
   "metadata": {},
   "source": [
    "**Caltrans PRD Excel Extract**"
   ]
  },
  {
   "cell_type": "code",
   "execution_count": 7,
   "metadata": {},
   "outputs": [],
   "source": [
    "import pandas as pd\n",
    "import matplotlib.pyplot as plt\n",
    "import numpy as np\n",
    "import re"
   ]
  },
  {
   "cell_type": "code",
   "execution_count": 3,
   "metadata": {},
   "outputs": [
    {
     "data": {
      "text/html": [
       "<div>\n",
       "<style scoped>\n",
       "    .dataframe tbody tr th:only-of-type {\n",
       "        vertical-align: middle;\n",
       "    }\n",
       "\n",
       "    .dataframe tbody tr th {\n",
       "        vertical-align: top;\n",
       "    }\n",
       "\n",
       "    .dataframe thead th {\n",
       "        text-align: right;\n",
       "    }\n",
       "</style>\n",
       "<table border=\"1\" class=\"dataframe\">\n",
       "  <thead>\n",
       "    <tr style=\"text-align: right;\">\n",
       "      <th></th>\n",
       "      <th>Jurisdiction</th>\n",
       "      <th>Total Maintained Miles</th>\n",
       "      <th>Lane Miles</th>\n",
       "      <th>Annual VMT (Millions)</th>\n",
       "    </tr>\n",
       "  </thead>\n",
       "  <tbody>\n",
       "    <tr>\n",
       "      <th>0</th>\n",
       "      <td>STATE HIGHWAYS</td>\n",
       "      <td>15227.820995</td>\n",
       "      <td>49925.26798</td>\n",
       "      <td>167684.867433</td>\n",
       "    </tr>\n",
       "    <tr>\n",
       "      <th>1</th>\n",
       "      <td>STATE HIGHWAYS</td>\n",
       "      <td>15233.675998</td>\n",
       "      <td>50343.31299</td>\n",
       "      <td>172549.353502</td>\n",
       "    </tr>\n",
       "    <tr>\n",
       "      <th>2</th>\n",
       "      <td>STATE HIGHWAYS</td>\n",
       "      <td>15224.619998</td>\n",
       "      <td>50341.505991</td>\n",
       "      <td>178436.015065</td>\n",
       "    </tr>\n",
       "    <tr>\n",
       "      <th>3</th>\n",
       "      <td>STATE HIGHWAYS</td>\n",
       "      <td>15208.789999</td>\n",
       "      <td>50524.520992</td>\n",
       "      <td>182906.273988</td>\n",
       "    </tr>\n",
       "    <tr>\n",
       "      <th>4</th>\n",
       "      <td>STATE HIGHWAYS</td>\n",
       "      <td>15212.896201</td>\n",
       "      <td>50560.176197</td>\n",
       "      <td>183460.488631</td>\n",
       "    </tr>\n",
       "  </tbody>\n",
       "</table>\n",
       "</div>"
      ],
      "text/plain": [
       "     Jurisdiction Total Maintained Miles    Lane Miles Annual VMT (Millions)\n",
       "0  STATE HIGHWAYS           15227.820995   49925.26798         167684.867433\n",
       "1  STATE HIGHWAYS           15233.675998   50343.31299         172549.353502\n",
       "2  STATE HIGHWAYS           15224.619998  50341.505991         178436.015065\n",
       "3  STATE HIGHWAYS           15208.789999  50524.520992         182906.273988\n",
       "4  STATE HIGHWAYS           15212.896201  50560.176197         183460.488631"
      ]
     },
     "execution_count": 3,
     "metadata": {},
     "output_type": "execute_result"
    }
   ],
   "source": [
    "CA_PRD = pd.DataFrame()\n",
    "\n",
    "for year in range(2001, 2023):\n",
    "    tab = 'Table 1' if year >= 2017 else f'{year} PRD_Table 1'\n",
    "    temp = pd.read_excel(pd.ExcelFile(f'HPMS2001_2022_PRD/{year}_PRD.xlsx'), tab)\n",
    "    \n",
    "    temp = temp[temp.iloc[:, 0]=='STATE HIGHWAYS']\n",
    "    \n",
    "    temp = temp.dropna(axis=1, how='all')\n",
    "    temp.columns = ['Jurisdiction', 'Total Maintained Miles', 'Lane Miles', 'Annual VMT (Millions)']\n",
    "    \n",
    "    CA_PRD = pd.concat([CA_PRD, temp])\n",
    "\n",
    "# Reset the index of the final DataFrame\n",
    "CA_PRD.reset_index(drop=True, inplace=True)\n",
    "CA_PRD.head()\n"
   ]
  },
  {
   "cell_type": "code",
   "execution_count": 47,
   "metadata": {},
   "outputs": [],
   "source": [
    "def hwymiles(county):\n",
    "    TAB5_PRD = pd.DataFrame()\n",
    "    for year in range(2001, 2023):\n",
    "        tab = 'Table 5' if year >= 2017 else f'{year} PRD_Table 5'\n",
    "        temp = pd.read_excel(pd.ExcelFile(f'HPMS2001_2022_PRD/{year}_PRD.xlsx'), tab)\n",
    "        \n",
    "        temp = temp.dropna(axis=1, how='all')\n",
    "        temp = temp[temp.iloc[:, 0]==f'{county}']\n",
    "        \n",
    "        temp.columns = ['County', 'City Road', 'County Roads', 'State Highway', 'NA1', 'NA2', 'NA3', 'NA4', 'Total']\n",
    "        \n",
    "        TAB5_PRD = pd.concat([TAB5_PRD, temp])\n",
    "\n",
    "    # Reset the index of the final DataFrame\n",
    "    TAB5_PRD.reset_index(drop=True, inplace=True)\n",
    "    TAB5_PRD['Year'] = np.arange(2001, 2023)\n",
    "    \n",
    "    plt.plot(TAB5_PRD['Year'], TAB5_PRD['State Highway'])\n",
    "    plt.title(f'{county} County State-Highway Miles')\n",
    "    plt.grid()\n"
   ]
  },
  {
   "cell_type": "code",
   "execution_count": 46,
   "metadata": {},
   "outputs": [
    {
     "name": "stdout",
     "output_type": "stream",
     "text": [
      "Worksheet named '2008 PRD_Table 6' not found for the year 2008.\n",
      "Worksheet named '2009 PRD_Table 6' not found for the year 2009.\n"
     ]
    },
    {
     "data": {
      "text/plain": [
       "[<matplotlib.lines.Line2D at 0x7fd8a0c91d60>]"
      ]
     },
     "execution_count": 46,
     "metadata": {},
     "output_type": "execute_result"
    },
    {
     "data": {
      "image/png": "[encoded data removed]",
      "text/plain": [
       "<Figure size 640x480 with 1 Axes>"
      ]
     },
     "metadata": {},
     "output_type": "display_data"
    }
   ],
   "source": [
    "def VMT(county, value_2008, value_2009):\n",
    "    TAB6_PRD = pd.DataFrame()\n",
    "\n",
    "    # Iterate over the years\n",
    "    for year in range(2001, 2023):\n",
    "        try:\n",
    "            # Load the data\n",
    "            tab = 'Table 6' if year >= 2017 else f'{year} PRD_Table 6'\n",
    "            \n",
    "            try:\n",
    "                temp = pd.read_excel(pd.ExcelFile(f'HPMS2001_2022_PRD/{year}_PRD.xlsx'), tab)\n",
    "            except ValueError:\n",
    "                print(f\"Worksheet named '{tab}' not found for the year {year}.\")\n",
    "                temp = pd.DataFrame([[np.nan]*8], columns=['County', 'NA', 'Rural Miles', 'Urban Miles', 'Total Miles', 'Rural DVMT', 'Urban DVMT', 'Total DVMT'])\n",
    "                temp['Year'] = year\n",
    "                TAB6_PRD = pd.concat([TAB6_PRD, temp])\n",
    "                continue\n",
    "            \n",
    "            temp = temp.dropna(axis=1, how='all')\n",
    "            temp = temp[temp.iloc[:, 0].str.contains(f'^{re.escape(county)}\\s+TOTAL$', case=False, na=False)]\n",
    "            \n",
    "            temp.columns = ['County', 'NA', 'Rural Miles', 'Urban Miles', 'Total Miles', 'Rural DVMT', 'Urban DVMT', 'Total DVMT']\n",
    "            \n",
    "            # Add a column for the year\n",
    "            temp['Year'] = year\n",
    "            \n",
    "        except FileNotFoundError:\n",
    "            print(f\"Data file for the year {year} is missing.\")\n",
    "            # Create a row of NaNs for the missing year\n",
    "            temp = pd.DataFrame([[np.nan]*8], columns=['County', 'NA', 'Rural Miles', 'Urban Miles', 'Total Miles', 'Rural DVMT', 'Urban DVMT', 'Total DVMT'])\n",
    "            temp['Year'] = year\n",
    "            TAB6_PRD = pd.concat([TAB6_PRD, temp])\n",
    "            continue\n",
    "        except Exception as e:\n",
    "            # print(f\"An error occurred for the year {year}: {e}\")\n",
    "            continue\n",
    "\n",
    "        TAB6_PRD = pd.concat([TAB6_PRD, temp])\n",
    "        # print(f'{year} processed')\n",
    "\n",
    "    # Reset the index of the final DataFrame\n",
    "    TAB6_PRD.reset_index(drop=True, inplace=True)\n",
    "\n",
    "    TAB6_PRD.loc[(TAB6_PRD['Year'] == 2008), 'Total DVMT'] = value_2008\n",
    "    TAB6_PRD.loc[(TAB6_PRD['Year'] == 2009), 'Total DVMT'] = value_2009\n",
    "\n",
    "    return TAB6_PRD\n",
    "\n",
    "# Call the function\n",
    "TAB6_PRD = VMT('BUTTE', np.nan, np.nan)\n",
    "plt.plot(TAB6_PRD['Year'], TAB6_PRD['Total DVMT']*1000*365)\n"
   ]
  }
 ],
 "metadata": {
  "kernelspec": {
   "display_name": ".venv",
   "language": "python",
   "name": "python3"
  },
  "language_info": {
   "codemirror_mode": {
    "name": "ipython",
    "version": 3
   },
   "file_extension": ".py",
   "mimetype": "text/x-python",
   "name": "python",
   "nbconvert_exporter": "python",
   "pygments_lexer": "ipython3",
   "version": "3.8.18"
  }
 },
 "nbformat": 4,
 "nbformat_minor": 2
}
